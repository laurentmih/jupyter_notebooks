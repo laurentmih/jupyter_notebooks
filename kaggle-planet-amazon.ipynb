{
 "cells": [
  {
   "cell_type": "markdown",
   "metadata": {},
   "source": [
    "# Kaggle Planet competition with Fast.ai\n",
    "[The fast.ai course](https://course.fast.ai) is a great way to get started with Deep Learning if you have only some coding experience, but no machine learning experience. Recently, fast.ai decided to switch from Keras to their self-rolled library which is built on top of PyTorch. I can get that decision I think, it's just that so far, the documentation isn't quite equivalent (in the sense that Keras' documentation is excellent, and fast.ai's is... non-existent?)."
   ]
  },
  {
   "cell_type": "markdown",
   "metadata": {
    "heading_collapsed": true
   },
   "source": [
    "## Fast.ai by examples\n",
    "Hence, I figured it would be cool to walk through a Kaggle competition challenge, using the fast.ai library, and dissecting every step. They're mostly notes for myself, but maybe a lost reader might find it useful too."
   ]
  },
  {
   "cell_type": "code",
   "execution_count": 1,
   "metadata": {
    "hidden": true
   },
   "outputs": [],
   "source": [
    "%reload_ext autoreload\n",
    "%autoreload 2\n",
    "%matplotlib inline"
   ]
  },
  {
   "cell_type": "code",
   "execution_count": 2,
   "metadata": {
    "hidden": true
   },
   "outputs": [
    {
     "name": "stderr",
     "output_type": "stream",
     "text": [
      "/home/ubuntu/anaconda3/envs/fastai/lib/python3.6/site-packages/sklearn/ensemble/weight_boosting.py:29: DeprecationWarning: numpy.core.umath_tests is an internal NumPy module and should not be imported. It will be removed in a future NumPy release.\n",
      "  from numpy.core.umath_tests import inner1d\n"
     ]
    }
   ],
   "source": [
    "from fastai.model import resnet34\n",
    "from fastai.dataset import get_cv_idxs, ImageClassifierData\n",
    "from fastai.transforms import tfms_from_model, transforms_top_down\n",
    "from fastai.conv_learner import ConvLearner\n",
    "import torch\n",
    "\n",
    "# Custom metrics stuff\n",
    "import numpy as np\n",
    "import pandas as pd\n",
    "from sklearn.metrics import fbeta_score\n",
    "import warnings"
   ]
  },
  {
   "cell_type": "markdown",
   "metadata": {
    "heading_collapsed": true
   },
   "source": [
    "## Setting up data ingestion\n",
    "Fast.ai models expect a data stream to feed them the training samples during training, whatever these samples look like. The fast.ai library offers some pretty handy shortcuts for that."
   ]
  },
  {
   "cell_type": "code",
   "execution_count": 3,
   "metadata": {
    "hidden": true
   },
   "outputs": [],
   "source": [
    "PATH = \"data/amazon/\""
   ]
  },
  {
   "cell_type": "markdown",
   "metadata": {
    "hidden": true
   },
   "source": [
    "The Planet competition provides us with a bunch of images in one folder, and a mapping `.csv` that maps a filename to its classes."
   ]
  },
  {
   "cell_type": "code",
   "execution_count": 4,
   "metadata": {
    "hidden": true
   },
   "outputs": [],
   "source": [
    "label_csv = f\"{PATH}mapping.csv\""
   ]
  },
  {
   "cell_type": "markdown",
   "metadata": {
    "heading_collapsed": true
   },
   "source": [
    "## Validation set\n",
    "If I have to explain what a validation set is or why it is important, it's likely you're a bit in over your head. Probably best if you Google that.\n",
    "At any rate, the fast.ai library offers a nice shortcut to generate a train/test split called `get_cv_idxs()`, which I'm guessing is short form for *Get Cross-Validation Indexes*. It only requires one argument: the number of total samples available to you."
   ]
  },
  {
   "cell_type": "code",
   "execution_count": 5,
   "metadata": {
    "hidden": true
   },
   "outputs": [],
   "source": [
    "# Figure out amount of training samples by reading the lines in the mapping\n",
    "with open(label_csv, 'r') as csv_file:\n",
    "    number_of_training_samples = sum(1 for row in csv_file)\n",
    "    # Subtract 1 as this counted the header row of the .csv\n",
    "    number_of_training_samples -= 1\n",
    "    \n",
    "val_idxs = get_cv_idxs(number_of_training_samples)"
   ]
  },
  {
   "cell_type": "markdown",
   "metadata": {
    "heading_collapsed": true
   },
   "source": [
    "## Choosing the model\n",
    "This is chosen to be `resnet34` here, as it's a bit lighter. Of course, any of the other models, like the `resnext` ones etc can be chosen too. What's beautiful about fast.ai is that  it is extremely modular: if you define the model properly, all other functions in the library will automatically adapt to deal with its architecture, input sizes etc."
   ]
  },
  {
   "cell_type": "code",
   "execution_count": 6,
   "metadata": {
    "hidden": true
   },
   "outputs": [],
   "source": [
    "f_model = resnet34"
   ]
  },
  {
   "cell_type": "markdown",
   "metadata": {},
   "source": [
    "## Data stream\n",
    "With the data ingestion set up and the model chosen, we need to create some kind of data stream that will feed the model during training. Effectively, during training, we want to feed the model batches of images. This section is about three things:  \n",
    "1. Resizing the images correctly\n",
    "1. Augmenting them if we choose to\n",
    "1. Creating an object that correctly feeds the model\n",
    "\n",
    "For those first two, we'll use the `tfms_from_model()` function. For the second part, we'll use the `ImageClassifierData` object."
   ]
  },
  {
   "cell_type": "markdown",
   "metadata": {},
   "source": [
    "### Image resizing\n",
    "A good practice when training a convolutional network is to start out with small images (like 64x64). This allows the convnet to get a first feeling for the images rather quickly and not get sidetracked by details at first. As you progress, you can bump up the image sizes to feed it more details and squeeze out those last few percentages. That's the first two arguments of `tfms_from_model()`: the model that we have chosen, so that we correctly size, and the `sz` argument, which is the image size that we want.\n",
    "\n",
    "### Data augmentation\n",
    "For images, data augmentation is a neat trick where you \"create\" more images that can be used in training by slightly modifying the original ones. The later arguments in `tfms_from_model()` are all about image augmentation. `aug_tfms` is about what kind of transformation you want to do (maybe mirror it, flip it etc). Read the code for more options. max_zoom puts an upper limit on the zooming function used to augment. For more details, I suggest you watch the first class from Fast.ai DL1.  \n",
    "Note that you can choose to only resize and not augment by not passing along any arguments here. I'm not entirely clear on what kind of images you wouln't want to augment though.\n",
    "\n",
    "### The output data stream\n",
    "`ImageClassifierData` is a stream that will output something that `model.fit()` can take in. We need to tell it where to find the training data (first two arguments), where to find the labels (`label_csv` argument), the suffix (because the filenames have `.jpg` while the mapping does not), what transforms to apply (`tfms`), the validation indexes to use, and where the test set is (when we call inference)."
   ]
  },
  {
   "cell_type": "code",
   "execution_count": 7,
   "metadata": {},
   "outputs": [],
   "source": [
    "def get_data(sz, bs=64):\n",
    "    tfms = tfms_from_model(f_model, sz, aug_tfms=transforms_top_down, max_zoom=1.05)\n",
    "    return ImageClassifierData.from_csv(PATH, \"train\", label_csv, bs, suffix=\".jpg\", tfms=tfms,\n",
    "                                       val_idxs=val_idxs, test_name=\"test\")"
   ]
  },
  {
   "cell_type": "markdown",
   "metadata": {},
   "source": [
    "### Optional: understanding what comes out of a data loader\n",
    "Looking at the dimensions probably helps. For `x`: `[torch.FloatTensor of size 64x3x256x256]`  \n",
    "`256`: the image size that we indicated  \n",
    "`3`: RGB channels of each image  \n",
    "`64`: batch size  \n",
    "\n",
    "`y`: `[torch.FloatTensor of size 64x17]`  \n",
    "`17`: the amount of distinct classes it found in the `mapping.csv` file  \n",
    "`64`: batch size  \n"
   ]
  },
  {
   "cell_type": "code",
   "execution_count": 8,
   "metadata": {},
   "outputs": [],
   "source": [
    "#(x,y) = next(iter(data.val_dl))\n",
    "#x\n",
    "#y"
   ]
  },
  {
   "cell_type": "markdown",
   "metadata": {
    "heading_collapsed": true
   },
   "source": [
    "### Custom metrics\n",
    "The Kaggle planet competition will measured based on F2, so we should do our training based on F2 too. It's a bit more advanced to look at custom metrics, so I'll leave that as an exercise to the reader to go dig into the code. I'll just include the effective lines."
   ]
  },
  {
   "cell_type": "code",
   "execution_count": 8,
   "metadata": {
    "hidden": true
   },
   "outputs": [],
   "source": [
    "def f2(preds, targs, start=0.17, end=0.24, step=0.01):\n",
    "    with warnings.catch_warnings():\n",
    "        warnings.simplefilter(\"ignore\")\n",
    "        return max([fbeta_score(targs, (preds>th), 2, average='samples')\n",
    "                    for th in np.arange(start,end,step)])\n",
    "\n",
    "metrics=[f2]"
   ]
  },
  {
   "cell_type": "markdown",
   "metadata": {},
   "source": [
    "## Training the model"
   ]
  },
  {
   "cell_type": "markdown",
   "metadata": {},
   "source": [
    "### Defining a learner\n",
    "Training the model involves setting up a so-called \"learner\". In this case, given we used a fast.ai-supported network, `resnet34`, we can use the `ConvLearner` class. To avoid having to retrain `resnet34` from scratch, we'll also use the `pretrained` property, which returns the network with its pre-trained weights. If this is the first time you run it, it'll first download the pretrained weights and store them in a place it can easily find them again (in the `tmp` directory in your `PATH`)."
   ]
  },
  {
   "cell_type": "code",
   "execution_count": 9,
   "metadata": {},
   "outputs": [],
   "source": [
    "sz = 256\n",
    "bs = 64\n",
    "data = get_data(sz, bs)\n",
    "learn = ConvLearner.pretrained(f_model, data, metrics=metrics, ps=0.6)"
   ]
  },
  {
   "cell_type": "code",
   "execution_count": 31,
   "metadata": {},
   "outputs": [
    {
     "name": "stdout",
     "output_type": "stream",
     "text": [
      "Congratulations! You've fired the jupyter_done event"
     ]
    }
   ],
   "source": [
    "!curl -X POST https://maker.ifttt.com/trigger/jupyter_done/with/key/bC7PnY5XAPTf8fgjJPqjl0"
   ]
  },
  {
   "cell_type": "markdown",
   "metadata": {},
   "source": [
    "### Deciding on the learning rate\n",
    "Again some stuff that's useful with fast.ai: it has a built-in function that helps you in finding the right learning rate through reading a plot. Again, for more details, refer to Lecture 1 of DL1 v2 of the fast.ai classes."
   ]
  },
  {
   "cell_type": "code",
   "execution_count": 21,
   "metadata": {},
   "outputs": [
    {
     "data": {
      "application/vnd.jupyter.widget-view+json": {
       "model_id": "473c60477abc44b0bf6932d78a792549",
       "version_major": 2,
       "version_minor": 0
      },
      "text/plain": [
       "HBox(children=(IntProgress(value=0, description='Epoch', max=1), HTML(value='')))"
      ]
     },
     "metadata": {},
     "output_type": "display_data"
    },
    {
     "name": "stdout",
     "output_type": "stream",
     "text": [
      "epoch      trn_loss   val_loss   f2                          \n",
      "    0      0.228463   0.357444   0.795254  \n",
      "\n"
     ]
    },
    {
     "data": {
      "image/png": "[encoded data removed]",
      "text/plain": [
       "<Figure size 432x288 with 1 Axes>"
      ]
     },
     "metadata": {},
     "output_type": "display_data"
    }
   ],
   "source": [
    "lrf = learn.lr_find()\n",
    "learn.sched.plot()"
   ]
  },
  {
   "cell_type": "code",
   "execution_count": 10,
   "metadata": {},
   "outputs": [],
   "source": [
    "lr=0.4\n",
    "lrs = np.array([lr/9, lr/3, lr])"
   ]
  },
  {
   "cell_type": "code",
   "execution_count": null,
   "metadata": {},
   "outputs": [],
   "source": [
    "learn.fit(lr, 3, cycle_len=1, cycle_mult=2)\n",
    "learn.unfreeze()\n",
    "learn.fit(lrs, 3, cycle_len=1, cycle_mult=2)\n",
    "learn.freeze()"
   ]
  },
  {
   "cell_type": "code",
   "execution_count": 27,
   "metadata": {},
   "outputs": [],
   "source": [
    "learn.save(f'{sz}')"
   ]
  },
  {
   "cell_type": "code",
   "execution_count": 11,
   "metadata": {},
   "outputs": [],
   "source": [
    "learn.load(f'{sz}')"
   ]
  },
  {
   "cell_type": "code",
   "execution_count": null,
   "metadata": {},
   "outputs": [],
   "source": [
    "sz = 128\n",
    "learn.set_data(get_data(sz))\n",
    "learn.fit(lr, 3, cycle_len=1, cycle_mult=2)\n",
    "learn.unfreeze()\n",
    "learn.fit(lrs, 3, cycle_len=1, cycle_mult=2)\n",
    "learn.freeze()\n",
    "learn.save(f'{sz}')"
   ]
  },
  {
   "cell_type": "code",
   "execution_count": 23,
   "metadata": {},
   "outputs": [
    {
     "data": {
      "application/vnd.jupyter.widget-view+json": {
       "model_id": "dd579115db874c1c800cb1b8addc69d1",
       "version_major": 2,
       "version_minor": 0
      },
      "text/plain": [
       "HBox(children=(IntProgress(value=0, description='Epoch', max=7), HTML(value='')))"
      ]
     },
     "metadata": {},
     "output_type": "display_data"
    },
    {
     "name": "stdout",
     "output_type": "stream",
     "text": [
      "epoch      trn_loss   val_loss   f2                          \n",
      "    0      0.133094   0.114973   0.902654  \n",
      "    1      0.128123   0.11152    0.904999                    \n",
      "    2      0.125143   0.108777   0.908218                    \n",
      "    3      0.12554    0.108833   0.908446                    \n",
      "    4      0.122794   0.106674   0.908239                    \n",
      "    5      0.120309   0.105499   0.91096                     \n",
      "    6      0.11715    0.105262   0.910802                    \n",
      "\n"
     ]
    },
    {
     "data": {
      "application/vnd.jupyter.widget-view+json": {
       "model_id": "281b6bf2cd944bc3a5304732247ebc08",
       "version_major": 2,
       "version_minor": 0
      },
      "text/plain": [
       "HBox(children=(IntProgress(value=0, description='Epoch', max=7), HTML(value='')))"
      ]
     },
     "metadata": {},
     "output_type": "display_data"
    },
    {
     "name": "stdout",
     "output_type": "stream",
     "text": [
      "epoch      trn_loss   val_loss   f2                          \n",
      "    0      0.104537   0.090692   0.925343  \n",
      "    1      0.100349   0.090464   0.922541                     \n",
      "    2      0.091029   0.085241   0.930068                     \n",
      "    3      0.099358   0.089241   0.926882                     \n",
      "    4      0.093725   0.085511   0.931084                     \n",
      "    5      0.087369   0.08333    0.931182                     \n",
      "    6      0.086666   0.082431   0.93223                      \n",
      "\n"
     ]
    }
   ],
   "source": [
    "sz = 256\n",
    "learn.set_data(get_data(sz))\n",
    "learn.fit(lr, 3, cycle_len=1, cycle_mult=2)\n",
    "learn.unfreeze()\n",
    "learn.fit(lrs, 3, cycle_len=1, cycle_mult=2)\n",
    "learn.freeze()\n",
    "learn.save(f'{sz}')"
   ]
  },
  {
   "cell_type": "code",
   "execution_count": 57,
   "metadata": {},
   "outputs": [
    {
     "data": {
      "application/vnd.jupyter.widget-view+json": {
       "model_id": "db5ffade1b8d47a59c8c09993363a2d7",
       "version_major": 2,
       "version_minor": 0
      },
      "text/plain": [
       "HBox(children=(IntProgress(value=0, description='Epoch', max=7), HTML(value='')))"
      ]
     },
     "metadata": {},
     "output_type": "display_data"
    },
    {
     "name": "stdout",
     "output_type": "stream",
     "text": [
      "epoch      trn_loss   val_loss   f2                          \n",
      "    0      0.120431   0.100955   0.918047  \n",
      "    1      0.109882   0.09452    0.922982                    \n",
      "    2      0.100795   0.088636   0.927518                    \n",
      "    3      0.106012   0.091146   0.926916                    \n",
      "    4      0.099447   0.087868   0.927395                     \n",
      "    5      0.09422    0.08526    0.93036                      \n",
      "    6      0.093546   0.084552   0.929986                     \n",
      "\n"
     ]
    }
   ],
   "source": [
    "learn.unfreeze()\n",
    "learn.fit(lrs, 3, cycle_len=1, cycle_mult=2)\n",
    "learn.freeze()\n",
    "learn.save(f'{sz}')"
   ]
  },
  {
   "cell_type": "markdown",
   "metadata": {},
   "source": [
    "# Step plan\n",
    "1. Set up path to train and test samples\n",
    "1. Set up validation set using `get_cv_idxs()`\n",
    "1. Choose model\n",
    "1. Decide on transforms if applicable\n",
    "1. Create an *ClassifierData object, either `from csv` or `from file` or whatever the case is\n",
    "1. Set up the learner, most likely one of the *Learner classes, probably pretrained\n",
    "1. Train, unfreeze, train more, freeze [optional: bump up image resolution]\n",
    "1. Set `val_idxs` to [0] in the `get_data()` to include them in training\n",
    "1. Submit"
   ]
  },
  {
   "cell_type": "markdown",
   "metadata": {},
   "source": [
    "# Submission"
   ]
  },
  {
   "cell_type": "code",
   "execution_count": 30,
   "metadata": {},
   "outputs": [
    {
     "name": "stdout",
     "output_type": "stream",
     "text": [
      "                                              \r"
     ]
    }
   ],
   "source": [
    "multi_pred, y = learn.TTA(is_test=True)"
   ]
  },
  {
   "cell_type": "code",
   "execution_count": 32,
   "metadata": {},
   "outputs": [
    {
     "data": {
      "text/plain": [
       "array([[False, False, False, False, False, False, False, False, False, False, False,  True,  True, False,\n",
       "        False, False, False],\n",
       "       [False, False, False, False, False,  True, False, False, False, False, False, False,  True, False,\n",
       "        False, False, False],\n",
       "       [ True, False, False, False, False,  True, False, False, False,  True, False, False,  True,  True,\n",
       "        False, False, False],\n",
       "       [False, False, False, False, False,  True, False, False, False, False, False, False,  True,  True,\n",
       "         True, False, False],\n",
       "       [ True, False, False, False, False,  True, False, False, False,  True, False, False,  True,  True,\n",
       "        False, False,  True]])"
      ]
     },
     "execution_count": 32,
     "metadata": {},
     "output_type": "execute_result"
    }
   ],
   "source": [
    "preds = np.mean(multi_pred, 0)\n",
    "labels = preds>0.2\n",
    "labels[:5]"
   ]
  },
  {
   "cell_type": "code",
   "execution_count": 33,
   "metadata": {},
   "outputs": [],
   "source": [
    "subm_df = pd.DataFrame({\n",
    "    'image_name': [fname[5:-4] for fname in data.test_ds.fnames],\n",
    "    'tags': [\" \".join([data.classes[idx] for idx in row.nonzero()[0].tolist()]) for row in labels]\n",
    "})"
   ]
  },
  {
   "cell_type": "code",
   "execution_count": 34,
   "metadata": {},
   "outputs": [
    {
     "data": {
      "text/html": [
       "<div>\n",
       "<style scoped>\n",
       "    .dataframe tbody tr th:only-of-type {\n",
       "        vertical-align: middle;\n",
       "    }\n",
       "\n",
       "    .dataframe tbody tr th {\n",
       "        vertical-align: top;\n",
       "    }\n",
       "\n",
       "    .dataframe thead th {\n",
       "        text-align: right;\n",
       "    }\n",
       "</style>\n",
       "<table border=\"1\" class=\"dataframe\">\n",
       "  <thead>\n",
       "    <tr style=\"text-align: right;\">\n",
       "      <th></th>\n",
       "      <th>image_name</th>\n",
       "      <th>tags</th>\n",
       "    </tr>\n",
       "  </thead>\n",
       "  <tbody>\n",
       "    <tr>\n",
       "      <th>0</th>\n",
       "      <td>file_9235</td>\n",
       "      <td>partly_cloudy primary</td>\n",
       "    </tr>\n",
       "    <tr>\n",
       "      <th>1</th>\n",
       "      <td>file_8058</td>\n",
       "      <td>clear primary</td>\n",
       "    </tr>\n",
       "    <tr>\n",
       "      <th>2</th>\n",
       "      <td>test_17915</td>\n",
       "      <td>agriculture clear habitation primary road</td>\n",
       "    </tr>\n",
       "    <tr>\n",
       "      <th>3</th>\n",
       "      <td>test_35695</td>\n",
       "      <td>clear primary road selective_logging</td>\n",
       "    </tr>\n",
       "    <tr>\n",
       "      <th>4</th>\n",
       "      <td>file_7850</td>\n",
       "      <td>agriculture clear habitation primary road water</td>\n",
       "    </tr>\n",
       "  </tbody>\n",
       "</table>\n",
       "</div>"
      ],
      "text/plain": [
       "   image_name                                             tags\n",
       "0   file_9235                            partly_cloudy primary\n",
       "1   file_8058                                    clear primary\n",
       "2  test_17915        agriculture clear habitation primary road\n",
       "3  test_35695             clear primary road selective_logging\n",
       "4   file_7850  agriculture clear habitation primary road water"
      ]
     },
     "execution_count": 34,
     "metadata": {},
     "output_type": "execute_result"
    }
   ],
   "source": [
    "subm_df.head()"
   ]
  },
  {
   "cell_type": "code",
   "execution_count": 35,
   "metadata": {},
   "outputs": [],
   "source": [
    "subm_df.to_csv(f'subm/amazon-01.gz', compression=\"gzip\", index=False)"
   ]
  },
  {
   "cell_type": "code",
   "execution_count": 36,
   "metadata": {},
   "outputs": [
    {
     "name": "stdout",
     "output_type": "stream",
     "text": [
      "Using competition: planet-understanding-the-amazon-from-space\n",
      "Successfully submitted to Planet: Understanding the Amazon from Space"
     ]
    }
   ],
   "source": [
    "!kaggle competitions submit -f subm/amazon-01.gz -m \"Maybe names got shuffled?\""
   ]
  },
  {
   "cell_type": "code",
   "execution_count": null,
   "metadata": {},
   "outputs": [],
   "source": []
  }
 ],
 "metadata": {
  "kernelspec": {
   "display_name": "fastai",
   "language": "python",
   "name": "fastai"
  },
  "language_info": {
   "codemirror_mode": {
    "name": "ipython",
    "version": 3
   },
   "file_extension": ".py",
   "mimetype": "text/x-python",
   "name": "python",
   "nbconvert_exporter": "python",
   "pygments_lexer": "ipython3",
   "version": "3.6.6"
  }
 },
 "nbformat": 4,
 "nbformat_minor": 2
}
